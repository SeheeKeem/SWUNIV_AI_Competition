{
 "cells": [
  {
   "cell_type": "code",
   "execution_count": 1,
   "metadata": {},
   "outputs": [],
   "source": [
    "import pandas as pd\n",
    "\n",
    "train = pd.read_csv('./data/train.csv').drop('index',axis=1)\n",
    "# train.drop('introelapse',axis=1,inplace=True)\n",
    "# family size 이상치\n",
    "train = train.drop(1019)\n",
    "# age 이상치\n",
    "train = train.drop(train[train['age']>100].index.to_list())\n",
    "train = train.drop(train[train['introelapse']>50000].index.to_list())\n",
    "train = train.drop(train[train['testelapse']>50000].index.to_list())\n",
    "train = train.drop(train[train['surveyelapse']>50000].index.to_list())\n",
    "\n",
    "test = pd.read_csv('./data/test.csv').drop('index',axis=1)\n",
    "# test.drop('introelapse',axis=1,inplace=True)\n",
    "test.loc[test['familysize']>100,'familysize']= train['familysize'].mean()\n",
    "test.loc[test['age']>100,'age']= train['age'].mean()\n",
    "test.loc[test['introelapse']>50000,'introelapse']= train['introelapse'].mean()\n",
    "test.loc[test['testelapse']>50000,'testelapse']= train['testelapse'].mean()\n",
    "test.loc[test['surveyelapse']>50000,'surveyelapse']= train['surveyelapse'].mean()\n",
    "\n",
    "test_index = pd.read_csv('./data/test.csv')['index']\n",
    "\n",
    "pd.set_option('display.max_row', 100)\n",
    "pd.set_option('display.max_columns', 100)\n",
    "value = train['country'].value_counts().values\n",
    "rank = list(map(lambda x : 1 if x>1000 else (2 if x>100 else 3),value))\n",
    "# rank = list(map(lambda x : 1 if x>2000 else (2 if x>1000 else (3 if x>500 else (4 if x>200 else (5 if x>100 else 6)))),value))\n",
    "\n",
    "temp_dict = {i : 0 for i in train['country'].value_counts().index.to_list()}\n",
    "\n",
    "rank_dict = dict(zip(train['country'].value_counts().index.to_list(), rank))\n",
    "rank_dict['nan'] = 0\n",
    "train['country'] = train['country'].fillna('nan')\n",
    "train['country'] = train['country'].apply(lambda x : rank_dict[x])\n",
    "train['Ex'] = (train['TIPI1']+train['TIPI6'])/2\n",
    "train['Ag'] = (train['TIPI7']+train['TIPI2'])/2\n",
    "train['Con'] = (train['TIPI3']+train['TIPI8'])/2\n",
    "train['Es'] =(train['TIPI9']+train['TIPI4'])/2\n",
    "train['Op'] =(train['TIPI5']+train['TIPI10'])/2\n",
    "train_fill_na = train.fillna(train.mean())\n",
    "\n",
    "\n",
    "value = test['country'].value_counts().values\n",
    "rank = list(map(lambda x : 1 if x>1000 else (2 if x>100 else 3),value))\n",
    "# rank = list(map(lambda x : 1 if x>2000 else (2 if x>1000 else (3 if x>500 else (4 if x>200 else (5 if x>100 else 6)))),value))\n",
    "\n",
    "temp_dict = {i : 0 for i in test['country'].value_counts().index.to_list()}\n",
    "\n",
    "rank_dict = dict(zip(test['country'].value_counts().index.to_list(), rank))\n",
    "rank_dict['nan'] = 0\n",
    "test['country'] = test['country'].fillna('nan')\n",
    "test['country'] = test['country'].apply(lambda x : rank_dict[x])\n",
    "\n",
    "test['Ex'] = (test['TIPI1']+test['TIPI6'])/2\n",
    "test['Ag'] = (test['TIPI7']+test['TIPI2'])/2\n",
    "test['Con'] = (test['TIPI3']+test['TIPI8'])/2\n",
    "test['Es'] =(test['TIPI9']+test['TIPI4'])/2\n",
    "test['Op'] =(test['TIPI5']+test['TIPI10'])/2\n",
    "\n",
    "test_fill_na = test.fillna(test.mean())"
   ]
  },
  {
   "cell_type": "code",
   "execution_count": null,
   "metadata": {},
   "outputs": [],
   "source": [
    "import seaborn as sns\n",
    "\n",
    "correlations = train[train.columns[:26]].corr(method = 'spearman')\n",
    "sns.heatmap(correlations, cmap=\"coolwarm\", square=True, center=0)"
   ]
  },
  {
   "cell_type": "code",
   "execution_count": null,
   "metadata": {},
   "outputs": [],
   "source": [
    "import seaborn as sns\n",
    "\n",
    "correlations = train[train.columns[30:40]].corr(method = 'spearman')\n",
    "sns.heatmap(correlations, cmap=\"coolwarm\", square=True, center=0)"
   ]
  },
  {
   "cell_type": "code",
   "execution_count": null,
   "metadata": {},
   "outputs": [],
   "source": [
    "import seaborn as sns\n",
    "\n",
    "correlations = train[train.columns[40:56]].corr(method = 'spearman')\n",
    "sns.heatmap(correlations, cmap=\"coolwarm\", square=True, center=0)"
   ]
  },
  {
   "cell_type": "code",
   "execution_count": 3,
   "metadata": {},
   "outputs": [],
   "source": [
    "nerd = train[train['nerdiness']==1]\n",
    "normal = train[train['nerdiness']==0]"
   ]
  },
  {
   "cell_type": "code",
   "execution_count": null,
   "metadata": {},
   "outputs": [],
   "source": [
    "fig,ax = plt.subplots(6,5, figsize=(12,15))\n",
    "\n",
    "for i in range(26):\n",
    "    x_num = i//5\n",
    "    y_num = i%5\n",
    "\n",
    "    plot_dict = nerd.iloc[:,i].value_counts().to_dict()\n",
    "    plot_dict2 = normal.iloc[:,i].value_counts().to_dict()\n",
    "\n",
    "    x_values = sorted(plot_dict.keys())\n",
    "    x_values2 = sorted(plot_dict2.keys())\n",
    "\n",
    "    y_values = [plot_dict[x] for x in x_values]\n",
    "    y_values2 = [plot_dict2[x] for x in x_values2]\n",
    "    \n",
    "    ax[x_num, y_num].bar(x_values, y_values,alpha=1,label='Nerd')\n",
    "    ax[x_num, y_num].bar(x_values2, y_values2,alpha=0.45,color='red',label='Normal')\n",
    "\n",
    "    ax[x_num, y_num].set_title(train.columns[i])\n",
    "    ax[x_num, y_num].set_ylim(0,5000)\n",
    "\n",
    "lines_labels = [ax.get_legend_handles_labels() for ax in fig.axes]\n",
    "lines, labels = [sum(lol, []) for lol in zip(*lines_labels[:1])]\n",
    "fig.legend(lines, labels, loc='upper right')\n",
    "\n",
    "plt.tight_layout()\n",
    "plt.show()"
   ]
  },
  {
   "cell_type": "code",
   "execution_count": null,
   "metadata": {},
   "outputs": [],
   "source": [
    "fig,ax = plt.subplots(4,3, figsize=(12,15))\n",
    "\n",
    "for i in range(10):\n",
    "    x_num = i//3\n",
    "    y_num = i%3\n",
    "\n",
    "    plot_dict = nerd.iloc[:,30+i].value_counts().to_dict()\n",
    "    plot_dict2 = normal.iloc[:,30+i].value_counts().to_dict()\n",
    "\n",
    "    x_values = sorted(plot_dict.keys())\n",
    "    x_values2 = sorted(plot_dict2.keys())\n",
    "\n",
    "    y_values = [plot_dict[x] for x in x_values]\n",
    "    y_values2 = [plot_dict2[x] for x in x_values2]\n",
    "    \n",
    "    ax[x_num, y_num].bar(x_values, y_values,alpha=1,label='Nerd')\n",
    "    ax[x_num, y_num].bar(x_values2, y_values2,alpha=0.45,color='red',label='Normal')\n",
    "\n",
    "    ax[x_num, y_num].set_title(train.columns[30+i])\n",
    "    ax[x_num, y_num].set_ylim(0,4000)\n",
    "\n",
    "lines_labels = [ax.get_legend_handles_labels() for ax in fig.axes]\n",
    "lines, labels = [sum(lol, []) for lol in zip(*lines_labels[:1])]\n",
    "fig.legend(lines, labels, loc='upper right')\n",
    "\n",
    "plt.tight_layout()\n",
    "plt.show()"
   ]
  },
  {
   "cell_type": "code",
   "execution_count": null,
   "metadata": {},
   "outputs": [],
   "source": [
    "fig,ax = plt.subplots(4,4, figsize=(12,12))\n",
    "\n",
    "for i in range(16):\n",
    "    x_num = i//4\n",
    "    y_num = i%4\n",
    "\n",
    "    plot_dict = nerd.iloc[:,40+i].value_counts().to_dict()\n",
    "    plot_dict2 = normal.iloc[:,40+i].value_counts().to_dict()\n",
    "\n",
    "    x_values = sorted(plot_dict.keys())\n",
    "    x_values2 = sorted(plot_dict2.keys())\n",
    "\n",
    "    y_values = [plot_dict[x] for x in x_values]\n",
    "    y_values2 = [plot_dict2[x] for x in x_values2]\n",
    "    \n",
    "    ax[x_num, y_num].bar(x_values, y_values,alpha=1,label='Nerd')\n",
    "    ax[x_num, y_num].bar(x_values2, y_values2,alpha=0.45,color='red',label='Normal')\n",
    "\n",
    "    ax[x_num, y_num].set_title(train.columns[40+i])\n",
    "    ax[x_num, y_num].set_ylim(0,10000)\n",
    "\n",
    "lines_labels = [ax.get_legend_handles_labels() for ax in fig.axes]\n",
    "lines, labels = [sum(lol, []) for lol in zip(*lines_labels[:1])]\n",
    "fig.legend(lines, labels, loc='upper right')\n",
    "\n",
    "plt.tight_layout()\n",
    "plt.show()"
   ]
  },
  {
   "cell_type": "code",
   "execution_count": null,
   "metadata": {},
   "outputs": [],
   "source": [
    "import matplotlib.pyplot as plt\n",
    "\n",
    "\n",
    "plt.figure(figsize = (4,3))\n",
    "sns.countplot(data = train, x = 'education', hue = train['nerdiness'])"
   ]
  },
  {
   "cell_type": "code",
   "execution_count": null,
   "metadata": {},
   "outputs": [],
   "source": [
    "import matplotlib.pyplot as plt\n",
    "\n",
    "\n",
    "plt.figure(figsize = (4,3))\n",
    "sns.countplot(data = train, x = 'urban', hue = train['nerdiness'])"
   ]
  },
  {
   "cell_type": "code",
   "execution_count": null,
   "metadata": {},
   "outputs": [],
   "source": [
    "import matplotlib.pyplot as plt\n",
    "\n",
    "\n",
    "plt.figure(figsize = (4,3))\n",
    "sns.countplot(data = train, x = 'gender', hue = train['nerdiness'])"
   ]
  },
  {
   "cell_type": "code",
   "execution_count": null,
   "metadata": {},
   "outputs": [],
   "source": [
    "import matplotlib.pyplot as plt\n",
    "\n",
    "\n",
    "plt.figure(figsize = (4,3))\n",
    "sns.countplot(data = train, x = 'engnat', hue = train['nerdiness'])"
   ]
  },
  {
   "cell_type": "code",
   "execution_count": null,
   "metadata": {},
   "outputs": [],
   "source": [
    "import matplotlib.pyplot as plt\n",
    "\n",
    "\n",
    "plt.figure(figsize = (24,8))\n",
    "sns.countplot(data = train, x = 'age', hue = train['nerdiness'])"
   ]
  },
  {
   "cell_type": "code",
   "execution_count": null,
   "metadata": {},
   "outputs": [],
   "source": [
    "import matplotlib.pyplot as plt\n",
    "\n",
    "\n",
    "plt.figure(figsize = (4,3))\n",
    "sns.countplot(data = train, x = 'hand', hue = train['nerdiness'])"
   ]
  },
  {
   "cell_type": "code",
   "execution_count": null,
   "metadata": {},
   "outputs": [],
   "source": [
    "import matplotlib.pyplot as plt\n",
    "\n",
    "\n",
    "plt.figure(figsize = (8,3))\n",
    "sns.countplot(data = train, x = 'religion', hue = train['nerdiness'])"
   ]
  },
  {
   "cell_type": "code",
   "execution_count": null,
   "metadata": {},
   "outputs": [],
   "source": [
    "import matplotlib.pyplot as plt\n",
    "\n",
    "\n",
    "plt.figure(figsize = (4,3))\n",
    "sns.countplot(data = train, x = 'orientation', hue = train['nerdiness'])"
   ]
  },
  {
   "cell_type": "code",
   "execution_count": null,
   "metadata": {},
   "outputs": [],
   "source": [
    "import matplotlib.pyplot as plt\n",
    "\n",
    "\n",
    "plt.figure(figsize = (4,3))\n",
    "sns.countplot(data = train, x = 'voted', hue = train['nerdiness'])"
   ]
  },
  {
   "cell_type": "code",
   "execution_count": null,
   "metadata": {},
   "outputs": [],
   "source": [
    "import matplotlib.pyplot as plt\n",
    "\n",
    "\n",
    "plt.figure(figsize = (4,3))\n",
    "sns.countplot(data = train, x = 'married', hue = train['nerdiness'])"
   ]
  },
  {
   "cell_type": "code",
   "execution_count": null,
   "metadata": {},
   "outputs": [],
   "source": [
    "import matplotlib.pyplot as plt\n",
    "\n",
    "\n",
    "plt.figure(figsize = (16,3))\n",
    "sns.countplot(data = train, x = 'familysize', hue = train['nerdiness'])"
   ]
  },
  {
   "cell_type": "code",
   "execution_count": null,
   "metadata": {},
   "outputs": [],
   "source": [
    "import matplotlib.pyplot as plt\n",
    "\n",
    "\n",
    "plt.figure(figsize = (4,3))\n",
    "sns.countplot(data = train, x = 'ASD', hue = train['nerdiness'])"
   ]
  }
 ],
 "metadata": {
  "kernelspec": {
   "display_name": "Python 3.9.12 ('for_pytorch')",
   "language": "python",
   "name": "python3"
  },
  "language_info": {
   "codemirror_mode": {
    "name": "ipython",
    "version": 3
   },
   "file_extension": ".py",
   "mimetype": "text/x-python",
   "name": "python",
   "nbconvert_exporter": "python",
   "pygments_lexer": "ipython3",
   "version": "3.9.12"
  },
  "orig_nbformat": 4,
  "vscode": {
   "interpreter": {
    "hash": "6d5361de2d3a86ff8022af11ead2fa25aee948dfb14ed55cb3d2da795443f4cf"
   }
  }
 },
 "nbformat": 4,
 "nbformat_minor": 2
}
